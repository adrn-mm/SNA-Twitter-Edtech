{
 "cells": [
  {
   "cell_type": "markdown",
   "metadata": {},
   "source": [
    "## Libraries"
   ]
  },
  {
   "cell_type": "code",
   "execution_count": 1,
   "metadata": {},
   "outputs": [],
   "source": [
    "import community\n",
    "import networkx as nx\n",
    "import pandas as pd"
   ]
  },
  {
   "cell_type": "markdown",
   "metadata": {},
   "source": [
    "## Graf 1"
   ]
  },
  {
   "cell_type": "code",
   "execution_count": 10,
   "metadata": {},
   "outputs": [
    {
     "data": {
      "text/html": [
       "<div>\n",
       "<style scoped>\n",
       "    .dataframe tbody tr th:only-of-type {\n",
       "        vertical-align: middle;\n",
       "    }\n",
       "\n",
       "    .dataframe tbody tr th {\n",
       "        vertical-align: top;\n",
       "    }\n",
       "\n",
       "    .dataframe thead th {\n",
       "        text-align: right;\n",
       "    }\n",
       "</style>\n",
       "<table border=\"1\" class=\"dataframe\">\n",
       "  <thead>\n",
       "    <tr style=\"text-align: right;\">\n",
       "      <th></th>\n",
       "      <th>Source</th>\n",
       "      <th>Target</th>\n",
       "    </tr>\n",
       "  </thead>\n",
       "  <tbody>\n",
       "    <tr>\n",
       "      <th>0</th>\n",
       "      <td>Mary</td>\n",
       "      <td>Bob</td>\n",
       "    </tr>\n",
       "    <tr>\n",
       "      <th>1</th>\n",
       "      <td>Mary</td>\n",
       "      <td>Alice</td>\n",
       "    </tr>\n",
       "    <tr>\n",
       "      <th>2</th>\n",
       "      <td>Edgar</td>\n",
       "      <td>Alice</td>\n",
       "    </tr>\n",
       "    <tr>\n",
       "      <th>3</th>\n",
       "      <td>Edgar</td>\n",
       "      <td>Frederice</td>\n",
       "    </tr>\n",
       "    <tr>\n",
       "      <th>4</th>\n",
       "      <td>Alice</td>\n",
       "      <td>Bob</td>\n",
       "    </tr>\n",
       "    <tr>\n",
       "      <th>5</th>\n",
       "      <td>Alice</td>\n",
       "      <td>Rafael</td>\n",
       "    </tr>\n",
       "    <tr>\n",
       "      <th>6</th>\n",
       "      <td>Alice</td>\n",
       "      <td>Frederice</td>\n",
       "    </tr>\n",
       "    <tr>\n",
       "      <th>7</th>\n",
       "      <td>Bob</td>\n",
       "      <td>Rafael</td>\n",
       "    </tr>\n",
       "    <tr>\n",
       "      <th>8</th>\n",
       "      <td>Rafael</td>\n",
       "      <td>Jim</td>\n",
       "    </tr>\n",
       "    <tr>\n",
       "      <th>9</th>\n",
       "      <td>Frederice</td>\n",
       "      <td>Jim</td>\n",
       "    </tr>\n",
       "    <tr>\n",
       "      <th>10</th>\n",
       "      <td>Rafael</td>\n",
       "      <td>Aldo</td>\n",
       "    </tr>\n",
       "    <tr>\n",
       "      <th>11</th>\n",
       "      <td>Aldo</td>\n",
       "      <td>Stefan</td>\n",
       "    </tr>\n",
       "    <tr>\n",
       "      <th>12</th>\n",
       "      <td>Aldo</td>\n",
       "      <td>Pierre</td>\n",
       "    </tr>\n",
       "  </tbody>\n",
       "</table>\n",
       "</div>"
      ],
      "text/plain": [
       "       Source     Target\n",
       "0        Mary        Bob\n",
       "1        Mary      Alice\n",
       "2       Edgar      Alice\n",
       "3       Edgar  Frederice\n",
       "4       Alice        Bob\n",
       "5       Alice     Rafael\n",
       "6       Alice  Frederice\n",
       "7         Bob     Rafael\n",
       "8      Rafael        Jim\n",
       "9   Frederice        Jim\n",
       "10     Rafael       Aldo\n",
       "11       Aldo     Stefan\n",
       "12       Aldo     Pierre"
      ]
     },
     "execution_count": 10,
     "metadata": {},
     "output_type": "execute_result"
    }
   ],
   "source": [
    "source_lst = [\"Mary\",\"Mary\",\"Edgar\",\"Edgar\",\"Alice\",\"Alice\",\"Alice\",\"Bob\",\n",
    "              \"Rafael\",\"Frederice\",\"Rafael\",\"Aldo\",\"Aldo\"]\n",
    "target_lst = [\"Bob\",\"Alice\",\"Alice\",\"Frederice\",\"Bob\",\"Rafael\",\"Frederice\",\"Rafael\",\n",
    "              \"Jim\",\"Jim\",\"Aldo\",\"Stefan\",\"Pierre\"]\n",
    "df_g = pd.DataFrame(list(zip(source_lst,target_lst)), columns=[\"Source\",\"Target\"])\n",
    "df_g"
   ]
  },
  {
   "cell_type": "code",
   "execution_count": 7,
   "metadata": {},
   "outputs": [],
   "source": [
    "g = nx.from_pandas_edgelist(df_g, source=\"Source\", target=\"Target\")\n",
    "g = g.to_undirected()"
   ]
  },
  {
   "cell_type": "code",
   "execution_count": 8,
   "metadata": {},
   "outputs": [
    {
     "name": "stdout",
     "output_type": "stream",
     "text": [
      "Density dari graf: 0.28888888888888886\n"
     ]
    }
   ],
   "source": [
    "print(\"Density dari graf: \" + str(nx.classes.function.density(g)))"
   ]
  },
  {
   "cell_type": "code",
   "execution_count": 17,
   "metadata": {},
   "outputs": [
    {
     "name": "stdout",
     "output_type": "stream",
     "text": [
      "Shortest Path dari Mary dengan Pierre: 4\n"
     ]
    }
   ],
   "source": [
    "print(\"Shortest Path dari Mary dengan Pierre: \" + str(len(nx.bidirectional_shortest_path(g,\"Mary\",\"Pierre\"))-1))"
   ]
  },
  {
   "cell_type": "code",
   "execution_count": 43,
   "metadata": {},
   "outputs": [
    {
     "name": "stdout",
     "output_type": "stream",
     "text": [
      "Degree centrality pada aktor Mary: 0.2222222222222222\n"
     ]
    }
   ],
   "source": [
    "degree = nx.algorithms.centrality.degree_centrality(g)\n",
    "degree_df = pd.DataFrame(list(zip(list(degree.keys()),list(res.values()))),\n",
    "                         columns=['Node','Degree Centrality']).sort_values(\n",
    "                             \"Degree Centrality\",ascending=False).reset_index(drop=True)\n",
    "print(\"Degree centrality pada aktor Mary: \" + str(degree_df[degree_df['Node']=='Mary'][\"Degree Centrality\"].values[0]))\n"
   ]
  },
  {
   "cell_type": "markdown",
   "metadata": {},
   "source": [
    "## Graf 2"
   ]
  },
  {
   "cell_type": "code",
   "execution_count": 19,
   "metadata": {},
   "outputs": [
    {
     "data": {
      "text/html": [
       "<div>\n",
       "<style scoped>\n",
       "    .dataframe tbody tr th:only-of-type {\n",
       "        vertical-align: middle;\n",
       "    }\n",
       "\n",
       "    .dataframe tbody tr th {\n",
       "        vertical-align: top;\n",
       "    }\n",
       "\n",
       "    .dataframe thead th {\n",
       "        text-align: right;\n",
       "    }\n",
       "</style>\n",
       "<table border=\"1\" class=\"dataframe\">\n",
       "  <thead>\n",
       "    <tr style=\"text-align: right;\">\n",
       "      <th></th>\n",
       "      <th>Source</th>\n",
       "      <th>Target</th>\n",
       "    </tr>\n",
       "  </thead>\n",
       "  <tbody>\n",
       "    <tr>\n",
       "      <th>0</th>\n",
       "      <td>a</td>\n",
       "      <td>b</td>\n",
       "    </tr>\n",
       "    <tr>\n",
       "      <th>1</th>\n",
       "      <td>a</td>\n",
       "      <td>c</td>\n",
       "    </tr>\n",
       "    <tr>\n",
       "      <th>2</th>\n",
       "      <td>a</td>\n",
       "      <td>d</td>\n",
       "    </tr>\n",
       "  </tbody>\n",
       "</table>\n",
       "</div>"
      ],
      "text/plain": [
       "  Source Target\n",
       "0      a      b\n",
       "1      a      c\n",
       "2      a      d"
      ]
     },
     "execution_count": 19,
     "metadata": {},
     "output_type": "execute_result"
    }
   ],
   "source": [
    "source_lst_2 = ['a','a','a']\n",
    "target_lst_2 = ['b','c','d']\n",
    "df_g_2 = pd.DataFrame(list(zip(source_lst_2,target_lst_2)), columns=[\"Source\",\"Target\"])\n",
    "df_g_2"
   ]
  },
  {
   "cell_type": "code",
   "execution_count": 20,
   "metadata": {},
   "outputs": [],
   "source": [
    "g_2 = nx.from_pandas_edgelist(df_g_2, source=\"Source\", target=\"Target\")\n",
    "g_2 = g_2.to_undirected()"
   ]
  },
  {
   "cell_type": "code",
   "execution_count": 21,
   "metadata": {},
   "outputs": [
    {
     "name": "stdout",
     "output_type": "stream",
     "text": [
      "Avg Path Length dari graf: 1.5\n"
     ]
    }
   ],
   "source": [
    "print(\"Avg Path Length dari graf: \" + str(nx.average_shortest_path_length(g_2)))"
   ]
  },
  {
   "cell_type": "code",
   "execution_count": 23,
   "metadata": {},
   "outputs": [
    {
     "name": "stdout",
     "output_type": "stream",
     "text": [
      "Avg Degree dari graf: 1.5\n"
     ]
    }
   ],
   "source": [
    "print(\"Avg Degree dari graf: \" + str(sum([val for (node, val) in g_2.degree()])/g_2.order()))"
   ]
  },
  {
   "cell_type": "code",
   "execution_count": 62,
   "metadata": {},
   "outputs": [
    {
     "name": "stdout",
     "output_type": "stream",
     "text": [
      "Closeness centrality pada aktor A: 1.0\n"
     ]
    }
   ],
   "source": [
    "closeness = nx.algorithms.centrality.closeness_centrality(g_2, wf_improved=False)\n",
    "closeness_df = pd.DataFrame(list(zip(list(closeness.keys()),list(closeness.values()))),\n",
    "                         columns=['Node','Closeness Centrality']).sort_values(\n",
    "                             \"Closeness Centrality\",ascending=False).reset_index(drop=True)\n",
    "print(\"Closeness centrality pada aktor A: \" + str(closeness_df[closeness_df['Node']=='a'][\"Closeness Centrality\"].values[0]))\n"
   ]
  },
  {
   "cell_type": "code",
   "execution_count": 61,
   "metadata": {},
   "outputs": [
    {
     "data": {
      "text/html": [
       "<div>\n",
       "<style scoped>\n",
       "    .dataframe tbody tr th:only-of-type {\n",
       "        vertical-align: middle;\n",
       "    }\n",
       "\n",
       "    .dataframe tbody tr th {\n",
       "        vertical-align: top;\n",
       "    }\n",
       "\n",
       "    .dataframe thead th {\n",
       "        text-align: right;\n",
       "    }\n",
       "</style>\n",
       "<table border=\"1\" class=\"dataframe\">\n",
       "  <thead>\n",
       "    <tr style=\"text-align: right;\">\n",
       "      <th></th>\n",
       "      <th>Node</th>\n",
       "      <th>Closeness Centrality</th>\n",
       "    </tr>\n",
       "  </thead>\n",
       "  <tbody>\n",
       "    <tr>\n",
       "      <th>0</th>\n",
       "      <td>a</td>\n",
       "      <td>1.0</td>\n",
       "    </tr>\n",
       "    <tr>\n",
       "      <th>1</th>\n",
       "      <td>b</td>\n",
       "      <td>0.6</td>\n",
       "    </tr>\n",
       "    <tr>\n",
       "      <th>2</th>\n",
       "      <td>c</td>\n",
       "      <td>0.6</td>\n",
       "    </tr>\n",
       "    <tr>\n",
       "      <th>3</th>\n",
       "      <td>d</td>\n",
       "      <td>0.6</td>\n",
       "    </tr>\n",
       "  </tbody>\n",
       "</table>\n",
       "</div>"
      ],
      "text/plain": [
       "  Node  Closeness Centrality\n",
       "0    a                   1.0\n",
       "1    b                   0.6\n",
       "2    c                   0.6\n",
       "3    d                   0.6"
      ]
     },
     "execution_count": 61,
     "metadata": {},
     "output_type": "execute_result"
    }
   ],
   "source": [
    "closeness_df"
   ]
  },
  {
   "cell_type": "markdown",
   "metadata": {},
   "source": [
    "## Graf 3"
   ]
  },
  {
   "cell_type": "code",
   "execution_count": 44,
   "metadata": {},
   "outputs": [
    {
     "data": {
      "text/html": [
       "<div>\n",
       "<style scoped>\n",
       "    .dataframe tbody tr th:only-of-type {\n",
       "        vertical-align: middle;\n",
       "    }\n",
       "\n",
       "    .dataframe tbody tr th {\n",
       "        vertical-align: top;\n",
       "    }\n",
       "\n",
       "    .dataframe thead th {\n",
       "        text-align: right;\n",
       "    }\n",
       "</style>\n",
       "<table border=\"1\" class=\"dataframe\">\n",
       "  <thead>\n",
       "    <tr style=\"text-align: right;\">\n",
       "      <th></th>\n",
       "      <th>Source</th>\n",
       "      <th>Target</th>\n",
       "    </tr>\n",
       "  </thead>\n",
       "  <tbody>\n",
       "    <tr>\n",
       "      <th>0</th>\n",
       "      <td>Ian</td>\n",
       "      <td>Aldo</td>\n",
       "    </tr>\n",
       "    <tr>\n",
       "      <th>1</th>\n",
       "      <td>Ian</td>\n",
       "      <td>Mary</td>\n",
       "    </tr>\n",
       "    <tr>\n",
       "      <th>2</th>\n",
       "      <td>Mary</td>\n",
       "      <td>Bob</td>\n",
       "    </tr>\n",
       "    <tr>\n",
       "      <th>3</th>\n",
       "      <td>Aldo</td>\n",
       "      <td>Alice</td>\n",
       "    </tr>\n",
       "    <tr>\n",
       "      <th>4</th>\n",
       "      <td>Bob</td>\n",
       "      <td>Alice</td>\n",
       "    </tr>\n",
       "  </tbody>\n",
       "</table>\n",
       "</div>"
      ],
      "text/plain": [
       "  Source Target\n",
       "0    Ian   Aldo\n",
       "1    Ian   Mary\n",
       "2   Mary    Bob\n",
       "3   Aldo  Alice\n",
       "4    Bob  Alice"
      ]
     },
     "execution_count": 44,
     "metadata": {},
     "output_type": "execute_result"
    }
   ],
   "source": [
    "source_lst_3 = [\"Ian\",\"Ian\",\"Mary\",\"Aldo\",\"Bob\"]\n",
    "target_lst_3 = [\"Aldo\",\"Mary\",\"Bob\",\"Alice\",\"Alice\"]\n",
    "df_g_3 = pd.DataFrame(list(zip(source_lst_3,target_lst_3)), columns=[\"Source\",\"Target\"])\n",
    "df_g_3"
   ]
  },
  {
   "cell_type": "code",
   "execution_count": 50,
   "metadata": {},
   "outputs": [],
   "source": [
    "g_3 = nx.from_pandas_edgelist(df_g_3, source=\"Source\", target=\"Target\")\n",
    "g_3 = g_3.to_undirected()"
   ]
  },
  {
   "cell_type": "code",
   "execution_count": 56,
   "metadata": {},
   "outputs": [
    {
     "name": "stdout",
     "output_type": "stream",
     "text": [
      "Betweenness centrality pada aktor Mary: 0.16666666666666666\n"
     ]
    }
   ],
   "source": [
    "betweennes = nx.algorithms.centrality.betweenness_centrality(g_3, normalized=True)\n",
    "betweenness_df = pd.DataFrame(list(zip(list(betweennes.keys()),list(betweennes.values()))),\n",
    "                         columns=['Node','Betweenness Centrality']).sort_values(\n",
    "                             \"Betweenness Centrality\",ascending=False).reset_index(drop=True)\n",
    "print(\"Betweenness centrality pada aktor Mary: \" + str(betweenness_df[betweenness_df['Node']=='Mary'][\"Betweenness Centrality\"].values[0]))\n"
   ]
  }
 ],
 "metadata": {
  "kernelspec": {
   "display_name": "Python 3.8.10 ('venv': venv)",
   "language": "python",
   "name": "python3"
  },
  "language_info": {
   "codemirror_mode": {
    "name": "ipython",
    "version": 3
   },
   "file_extension": ".py",
   "mimetype": "text/x-python",
   "name": "python",
   "nbconvert_exporter": "python",
   "pygments_lexer": "ipython3",
   "version": "3.8.10"
  },
  "orig_nbformat": 4,
  "vscode": {
   "interpreter": {
    "hash": "4f8d7ebe1cc79583814ef06046c8a3839689f0f332a258ab243dea7e00f4e2ec"
   }
  }
 },
 "nbformat": 4,
 "nbformat_minor": 2
}
