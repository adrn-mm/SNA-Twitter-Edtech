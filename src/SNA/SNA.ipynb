{
 "cells": [
  {
   "cell_type": "markdown",
   "metadata": {},
   "source": [
    "# Import Libraries"
   ]
  },
  {
   "cell_type": "code",
   "execution_count": 1,
   "metadata": {},
   "outputs": [],
   "source": [
    "from functools import reduce\n",
    "\n",
    "import community\n",
    "import networkx as nx\n",
    "import pandas as pd"
   ]
  },
  {
   "cell_type": "markdown",
   "metadata": {},
   "source": [
    "# Import Edge Lists"
   ]
  },
  {
   "cell_type": "code",
   "execution_count": 2,
   "metadata": {},
   "outputs": [],
   "source": [
    "edglst_zenius = pd.read_csv(r\"c:\\\\Users\\\\LENOVO\\\\OneDrive\\\\Desktop\\\\Tugas Akhir\\\\Programming\\\\data\\\\post-preprocessing/zenius-edglst.csv\")\n",
    "edglst_ruangguru = pd.read_csv(r\"c:\\\\Users\\\\LENOVO\\\\OneDrive\\\\Desktop\\\\Tugas Akhir\\\\Programming\\\\data\\\\post-preprocessing/ruangguru-edglst.csv\")\n",
    "# change column name\n",
    "edglst_zenius.rename(columns={'Jumlah Interaksi':'Weight'}, inplace=True)\n",
    "edglst_ruangguru.rename(columns={'Jumlah Interaksi':'Weight'}, inplace=True)"
   ]
  },
  {
   "cell_type": "markdown",
   "metadata": {},
   "source": [
    "# Create Graphs"
   ]
  },
  {
   "cell_type": "code",
   "execution_count": 3,
   "metadata": {},
   "outputs": [],
   "source": [
    "g_ruangguru , g_zenius = [\n",
    "    nx.from_pandas_edgelist(\n",
    "        x,\n",
    "        source='Source',\n",
    "        target='Target', edge_attr='Weight') \n",
    "    for x in [edglst_ruangguru,\n",
    "              edglst_zenius]]\n",
    "# convert undirected graph\n",
    "g_ruangguru = g_ruangguru.to_undirected()\n",
    "g_zenius = g_zenius.to_undirected()"
   ]
  },
  {
   "cell_type": "markdown",
   "metadata": {},
   "source": [
    "# Network Properties"
   ]
  },
  {
   "cell_type": "markdown",
   "metadata": {},
   "source": [
    "### Size and Order"
   ]
  },
  {
   "cell_type": "code",
   "execution_count": 4,
   "metadata": {},
   "outputs": [
    {
     "name": "stdout",
     "output_type": "stream",
     "text": [
      "Size dan Order dari Graf Ruangguru: 4982 dan 5488\n",
      "Size dan Order dari Graf Zenius: 2123 dan 2605\n"
     ]
    }
   ],
   "source": [
    "size_ruangguru, order_ruangguru = [\n",
    "      g_ruangguru.size(),\n",
    "      g_ruangguru.order()]\n",
    "size_zenius, order_zenius = [\n",
    "      g_zenius.size(),\n",
    "      g_zenius.order()]\n",
    "print(\"Size dan Order dari Graf Ruangguru: \" +\n",
    "      str(size_ruangguru)+ ' dan ' +\n",
    "      str(order_ruangguru))\n",
    "print(\"Size dan Order dari Graf Zenius: \" +\n",
    "      str(size_zenius) + ' dan ' +\n",
    "      str(order_zenius))"
   ]
  },
  {
   "cell_type": "markdown",
   "metadata": {},
   "source": [
    "### Density"
   ]
  },
  {
   "cell_type": "code",
   "execution_count": 5,
   "metadata": {},
   "outputs": [
    {
     "name": "stdout",
     "output_type": "stream",
     "text": [
      "Density dari Graf Ruangguru: 0.00033089077230517296\n",
      "Density dari Graf Zenius: 0.0006259379487043409\n"
     ]
    }
   ],
   "source": [
    "density_ruangguru = nx.classes.function.density(g_ruangguru)\n",
    "density_zenius = nx.classes.function.density(g_zenius)\n",
    "print(\"Density dari Graf Ruangguru: \" +\n",
    "      str(density_ruangguru))\n",
    "print(\"Density dari Graf Zenius: \" +\n",
    "      str(density_zenius))"
   ]
  },
  {
   "cell_type": "markdown",
   "metadata": {},
   "source": [
    "### Modularity"
   ]
  },
  {
   "cell_type": "code",
   "execution_count": 6,
   "metadata": {},
   "outputs": [
    {
     "name": "stdout",
     "output_type": "stream",
     "text": [
      "Modularity dari Graf Ruangguru: 0.8731954103419803\n",
      "Modularity dari Graf Zenius: 0.8882064391766757\n"
     ]
    }
   ],
   "source": [
    "import community\n",
    "# modularity funcion\n",
    "def modularity(g):\n",
    "    mod = community.modularity(\n",
    "        community.best_partition(\n",
    "            g,\n",
    "            resolution=1),\n",
    "        g)\n",
    "    return mod\n",
    "# apply the funciton\n",
    "mod_ruangguru, mod_zenius = [\n",
    "    modularity(g)\n",
    "    for g in [g_ruangguru,\n",
    "              g_zenius]]\n",
    "print(\"Modularity dari Graf Ruangguru: \"\n",
    "      + str(mod_ruangguru))\n",
    "print(\"Modularity dari Graf Zenius: \"\n",
    "      + str(mod_zenius))"
   ]
  },
  {
   "cell_type": "markdown",
   "metadata": {},
   "source": [
    "### Diameter"
   ]
  },
  {
   "cell_type": "code",
   "execution_count": 7,
   "metadata": {},
   "outputs": [
    {
     "name": "stdout",
     "output_type": "stream",
     "text": [
      "Diameter dari Graf Ruangguru: 19\n",
      "Diameter dari Graf Zenius: 13\n"
     ]
    }
   ],
   "source": [
    "# diamater function\n",
    "def diameter(g):\n",
    "    return max(\n",
    "        [max(j.values())\n",
    "         for (i,j) in\n",
    "         nx.all_pairs_shortest_path_length(g)])\n",
    "# implement the funtion\n",
    "d_ruangguru, d_zenius = [diameter(x)\n",
    "                         for x in\n",
    "                         [g_ruangguru,\n",
    "                          g_zenius]]\n",
    "print(\"Diameter dari Graf Ruangguru: \"\n",
    "      + str(d_ruangguru))\n",
    "print(\"Diameter dari Graf Zenius: \"\n",
    "      + str(d_zenius))"
   ]
  },
  {
   "cell_type": "markdown",
   "metadata": {},
   "source": [
    "### Average Path Length"
   ]
  },
  {
   "cell_type": "code",
   "execution_count": 8,
   "metadata": {},
   "outputs": [
    {
     "name": "stdout",
     "output_type": "stream",
     "text": [
      "Average Path Length dari Graf Ruangguru: 5.250536797966828\n",
      "Average Path Length dari Graf Zenius: 3.9469252085032935\n"
     ]
    }
   ],
   "source": [
    "# average path length function\n",
    "def avg_path(g):\n",
    "      path_lengths = [sum(j.values())\n",
    "                      for (i,j) in\n",
    "                      nx.shortest_path_length(g)]\n",
    "      number_of_paths = [len(j.values())\n",
    "                         for (i,j) in\n",
    "                         nx.shortest_path_length(g)]\n",
    "      result = sum(path_lengths)/sum(number_of_paths)\n",
    "      return result\n",
    "# implement the function\n",
    "avgpath_ruangguru, avgpath_zenius = [\n",
    "    avg_path(x) \n",
    "    for x in [g_ruangguru,\n",
    "              g_zenius]]\n",
    "print(\"Average Path Length dari Graf Ruangguru: \"\n",
    "      + str(avgpath_ruangguru))\n",
    "print(\"Average Path Length dari Graf Zenius: \"\n",
    "      + str(avgpath_zenius))"
   ]
  },
  {
   "cell_type": "markdown",
   "metadata": {},
   "source": [
    "### Average Degree"
   ]
  },
  {
   "cell_type": "code",
   "execution_count": 9,
   "metadata": {},
   "outputs": [
    {
     "name": "stdout",
     "output_type": "stream",
     "text": [
      "Average Degree dari Graf Ruangguru: 1.815597667638484\n",
      "Average Degree dari Graf Zenius: 1.6299424184261035\n"
     ]
    }
   ],
   "source": [
    "# average degree function\n",
    "def avg_deg(g):\n",
    "    return sum(\n",
    "        [val for (node, val)\n",
    "         in g.degree()]\n",
    "        )/g.order()\n",
    "# implement the function\n",
    "avgdeg_ruangguru, avgdeg_zenius = [\n",
    "    avg_deg(g)\n",
    "    for g in [g_ruangguru, g_zenius]]\n",
    "print(\"Average Degree dari Graf Ruangguru: \"\n",
    "      + str(avgdeg_ruangguru))\n",
    "print(\"Average Degree dari Graf Zenius: \"\n",
    "      + str(avgdeg_zenius))"
   ]
  },
  {
   "cell_type": "markdown",
   "metadata": {},
   "source": [
    "### Connected Components"
   ]
  },
  {
   "cell_type": "code",
   "execution_count": 10,
   "metadata": {},
   "outputs": [
    {
     "name": "stdout",
     "output_type": "stream",
     "text": [
      "Connected Components dari Graf Ruangguru: 1022\n",
      "Connected Components dari Graf Zenius: 587\n"
     ]
    }
   ],
   "source": [
    "conn_ruangguru = nx.number_connected_components(g_ruangguru)\n",
    "conn_zenius = nx.number_connected_components(g_zenius)\n",
    "print(\"Connected Components dari Graf Ruangguru: \"\n",
    "      + str(conn_ruangguru))\n",
    "print(\"Connected Components dari Graf Zenius: \"\n",
    "      + str(conn_zenius))"
   ]
  },
  {
   "cell_type": "markdown",
   "metadata": {},
   "source": [
    "## Centrality"
   ]
  },
  {
   "cell_type": "markdown",
   "metadata": {},
   "source": [
    "### Degree Centrality "
   ]
  },
  {
   "cell_type": "code",
   "execution_count": 11,
   "metadata": {},
   "outputs": [],
   "source": [
    "# degree centrality function\n",
    "def degree_c(g):\n",
    "        res = nx.algorithms.centrality.degree_centrality(g)\n",
    "        return pd.DataFrame(\n",
    "            list(zip(list(res.keys()),\n",
    "                    list(res.values())\n",
    "                    )),\n",
    "            columns=['Node',\n",
    "                    'Degree Centrality']\n",
    "            ).sort_values(\"Degree Centrality\",\n",
    "                    ascending=False\n",
    "                    ).reset_index(drop=True) \n",
    "# implement the function\n",
    "df_degreecent_ruangguru, df_degreecent_zenius = [degree_c(x) for x in [g_ruangguru,g_zenius]]"
   ]
  },
  {
   "cell_type": "markdown",
   "metadata": {},
   "source": [
    "### Betweennes Centrality"
   ]
  },
  {
   "cell_type": "code",
   "execution_count": 12,
   "metadata": {},
   "outputs": [],
   "source": [
    "# betweenness centrality function\n",
    "def betweenness_c(g):\n",
    "    res = nx.algorithms.centrality.betweenness_centrality(g,\n",
    "                                                          normalized=True)\n",
    "    return pd.DataFrame(\n",
    "        list(zip(list(res.keys()),\n",
    "                 list(res.values()))),\n",
    "        columns=['Node',\n",
    "                 'Betweenness Centrality']\n",
    "        ).sort_values(\n",
    "            \"Betweenness Centrality\",\n",
    "            ascending=False\n",
    "            ).reset_index(drop=True) \n",
    "# implement the function\n",
    "df_betwenncent_ruangguru, df_betwenncent_zenius = [\n",
    "    betweenness_c(x) for x in [g_ruangguru,g_zenius]]"
   ]
  },
  {
   "cell_type": "markdown",
   "metadata": {},
   "source": [
    "### Closeness Centrality"
   ]
  },
  {
   "cell_type": "code",
   "execution_count": 13,
   "metadata": {},
   "outputs": [],
   "source": [
    "# closeness centrality function\n",
    "def closeness_c(g):\n",
    "    res = nx.algorithms.centrality.closeness_centrality(g,\n",
    "                                                        wf_improved=True)\n",
    "    return pd.DataFrame(\n",
    "        list(zip(list(res.keys()),\n",
    "                 list(res.values())\n",
    "                 )),\n",
    "        columns=['Node',\n",
    "                 'Closeness Centrality']\n",
    "        ).sort_values(\"Closeness Centrality\",\n",
    "                 ascending=False\n",
    "                 ).reset_index(drop=True) \n",
    "# implement the function\n",
    "df_closecent_ruangguru, df_closecent_zenius = [\n",
    "    closeness_c(x) for x in [g_ruangguru,g_zenius]]"
   ]
  },
  {
   "cell_type": "markdown",
   "metadata": {},
   "source": [
    "### Eigenvector Centrality"
   ]
  },
  {
   "cell_type": "code",
   "execution_count": 14,
   "metadata": {},
   "outputs": [],
   "source": [
    "# eigenvector centrality function\n",
    "def eigen_c(g):\n",
    "    res = nx.algorithms.centrality.eigenvector_centrality(g,\n",
    "                                                          weight=None)\n",
    "    return pd.DataFrame(\n",
    "        list(zip(list(res.keys()),\n",
    "                 list(res.values())\n",
    "                 )),\n",
    "        columns=['Node',\n",
    "                 'Eigenvector Centrality']\n",
    "        ).sort_values(\"Eigenvector Centrality\",\n",
    "                 ascending=False\n",
    "                 ).reset_index(drop=True) \n",
    "# implement the function\n",
    "df_eigencent_ruangguru, df_eigencent_zenius = [eigen_c(x) for x in [g_ruangguru,g_zenius]]"
   ]
  },
  {
   "cell_type": "markdown",
   "metadata": {},
   "source": [
    "### All Centrality for Ruangguru and Zenius"
   ]
  },
  {
   "cell_type": "code",
   "execution_count": 15,
   "metadata": {},
   "outputs": [],
   "source": [
    "def all_centrality(deg, bet, clos, eig):\n",
    "    return reduce(lambda  left,right: pd.merge(left,right,on=['Node']),\n",
    "                                 [deg,bet,clos,eig]).sort_values(['Degree Centrality',\n",
    "                                                                  'Betweenness Centrality',\n",
    "                                                                  'Closeness Centrality',\n",
    "                                                                  'Eigenvector Centrality'],\n",
    "                                                                 ascending=[False,False,False,False])\n",
    "df_centrality_ruangguru = all_centrality(df_degreecent_ruangguru,df_betwenncent_ruangguru,\n",
    "                                         df_closecent_ruangguru, df_eigencent_ruangguru)\n",
    "\n",
    "df_centrality_zenius = all_centrality(df_degreecent_zenius, df_betwenncent_zenius,\n",
    "                                      df_closecent_zenius, df_eigencent_zenius)"
   ]
  },
  {
   "cell_type": "markdown",
   "metadata": {},
   "source": [
    "# Transform to Gexf (Gephi's Format)"
   ]
  },
  {
   "cell_type": "code",
   "execution_count": 16,
   "metadata": {},
   "outputs": [],
   "source": [
    "# adding attributes to graph function\n",
    "def data_to_gephi(g):\n",
    "    nx.set_node_attributes(\n",
    "        g,\n",
    "        community.best_partition(\n",
    "            g, resolution=1),\n",
    "        \"Modularity Class\")\n",
    "    nx.set_node_attributes(\n",
    "        g,\n",
    "        nx.betweenness_centrality(\n",
    "            g),\n",
    "        \"Betweenness Centrality\")\n",
    "    return g\n",
    "# implement the function\n",
    "g_ruangguru, g_zenius = [data_to_gephi(x) for\n",
    "                         x in [g_ruangguru,\n",
    "                               g_zenius]]\n",
    "# write to gexf files\n",
    "nx.write_gexf(g_ruangguru, r\"c:\\Users\\LENOVO\\OneDrive\\Desktop\\Tugas Akhir\\Programming\\data\\to-gephi\\ruangguru.gexf\")\n",
    "nx.write_gexf(g_zenius, r\"c:\\Users\\LENOVO\\OneDrive\\Desktop\\Tugas Akhir\\Programming\\data\\to-gephi\\zenius.gexf\")"
   ]
  },
  {
   "cell_type": "markdown",
   "metadata": {},
   "source": [
    "# Output to CSV"
   ]
  },
  {
   "cell_type": "code",
   "execution_count": 17,
   "metadata": {},
   "outputs": [],
   "source": [
    "# network properties \n",
    "lst_column = ['Metrics', 'Ruangguru', 'Zenius']\n",
    "data = [['Size', size_ruangguru, size_zenius],\n",
    "        ['Order', order_ruangguru, order_zenius],\n",
    "        ['Density', density_ruangguru, density_zenius],\n",
    "        ['Modularity', mod_ruangguru, mod_zenius],\n",
    "        ['Diameter', d_ruangguru, d_zenius],\n",
    "        ['Average Path Length', avgpath_ruangguru, avgpath_zenius],\n",
    "        ['Average Degree', avgdeg_ruangguru, avgdeg_zenius], \n",
    "        ['Connected Component', conn_ruangguru, conn_zenius]]\n",
    "df_prop = pd.DataFrame(data, columns=lst_column) \n",
    "df_prop.to_csv(\n",
    "        r\"c:\\Users\\LENOVO\\OneDrive\\Desktop\\Tugas Akhir\\Programming\\data\\post-SNA\\network-properties\\network_properties.csv\",\n",
    "        index=False,\n",
    "        header=True,\n",
    "        )\n",
    "# degree centrality\n",
    "df_degreecent_ruangguru.to_csv(\n",
    "        r\"c:\\Users\\LENOVO\\OneDrive\\Desktop\\Tugas Akhir\\Programming\\data\\post-SNA\\centrality\\degree-centrality\\ruangguru-degree.csv\",\n",
    "        index=False,\n",
    "        header=True,\n",
    "        )\n",
    "df_degreecent_zenius.to_csv(\n",
    "        r\"c:\\Users\\LENOVO\\OneDrive\\Desktop\\Tugas Akhir\\Programming\\data\\post-SNA\\centrality\\degree-centrality\\zenius-degree.csv\",\n",
    "        index=False,\n",
    "        header=True,\n",
    "        )\n",
    "# closeness centrality\n",
    "df_closecent_ruangguru.to_csv(\n",
    "        r\"c:\\Users\\LENOVO\\OneDrive\\Desktop\\Tugas Akhir\\Programming\\data\\post-SNA\\centrality\\closeness-centrality\\ruangguru-closeness.csv\",\n",
    "        index=False,\n",
    "        header=True,\n",
    "        )\n",
    "df_closecent_zenius.to_csv(\n",
    "        r\"c:\\Users\\LENOVO\\OneDrive\\Desktop\\Tugas Akhir\\Programming\\data\\post-SNA\\centrality\\closeness-centrality\\zenius-closeness.csv\",\n",
    "        index=False,\n",
    "        header=True,\n",
    "        )\n",
    "# betweenness centrality\n",
    "df_betwenncent_ruangguru.to_csv(\n",
    "        r\"c:\\Users\\LENOVO\\OneDrive\\Desktop\\Tugas Akhir\\Programming\\data\\post-SNA\\centrality\\betweenness-centrality\\ruangguru-betweenness.csv\",\n",
    "        index=False,\n",
    "        header=True,\n",
    "        )\n",
    "df_betwenncent_zenius.to_csv(\n",
    "        r\"c:\\Users\\LENOVO\\OneDrive\\Desktop\\Tugas Akhir\\Programming\\data\\post-SNA\\centrality\\betweenness-centrality\\zenius-betweenness.csv\",\n",
    "        index=False,\n",
    "        header=True,\n",
    "        )\n",
    "# eigen centrality\n",
    "df_eigencent_ruangguru.to_csv(\n",
    "        r\"c:\\Users\\LENOVO\\OneDrive\\Desktop\\Tugas Akhir\\Programming\\data\\post-SNA\\centrality\\eigenvector-centrality\\ruangguru-eigenvector.csv\",\n",
    "        index=False,\n",
    "        header=True,\n",
    "        )\n",
    "df_eigencent_zenius.to_csv(\n",
    "        r\"c:\\Users\\LENOVO\\OneDrive\\Desktop\\Tugas Akhir\\Programming\\data\\post-SNA\\centrality\\eigenvector-centrality\\zenius-eigenvector.csv\",\n",
    "        index=False,\n",
    "        header=True,\n",
    "        )\n",
    "# all centrality\n",
    "df_centrality_ruangguru.to_csv(\n",
    "        r\"c:\\Users\\LENOVO\\OneDrive\\Desktop\\Tugas Akhir\\Programming\\data\\post-SNA\\centrality\\all-centrality-ruangguru.csv\",\n",
    "        index=True,\n",
    "        header=True,\n",
    "        )\n",
    "df_centrality_zenius.to_csv(\n",
    "        r\"c:\\Users\\LENOVO\\OneDrive\\Desktop\\Tugas Akhir\\Programming\\data\\post-SNA\\centrality\\all-centrality-zenius.csv\",\n",
    "        index=True,\n",
    "        header=True,\n",
    "        )"
   ]
  }
 ],
 "metadata": {
  "kernelspec": {
   "display_name": "Python 3.8.10 ('venv': venv)",
   "language": "python",
   "name": "python3"
  },
  "language_info": {
   "codemirror_mode": {
    "name": "ipython",
    "version": 3
   },
   "file_extension": ".py",
   "mimetype": "text/x-python",
   "name": "python",
   "nbconvert_exporter": "python",
   "pygments_lexer": "ipython3",
   "version": "3.8.10"
  },
  "orig_nbformat": 4,
  "vscode": {
   "interpreter": {
    "hash": "4f8d7ebe1cc79583814ef06046c8a3839689f0f332a258ab243dea7e00f4e2ec"
   }
  }
 },
 "nbformat": 4,
 "nbformat_minor": 2
}
