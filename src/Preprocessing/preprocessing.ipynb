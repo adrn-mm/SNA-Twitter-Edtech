{
 "cells": [
  {
   "cell_type": "markdown",
   "metadata": {},
   "source": [
    "# Import libraries"
   ]
  },
  {
   "cell_type": "code",
   "execution_count": 1,
   "metadata": {},
   "outputs": [],
   "source": [
    "import pandas as pd"
   ]
  },
  {
   "cell_type": "markdown",
   "metadata": {},
   "source": [
    "# Import dataset"
   ]
  },
  {
   "cell_type": "code",
   "execution_count": 2,
   "metadata": {},
   "outputs": [
    {
     "data": {
      "text/plain": [
       "(39219, 36)"
      ]
     },
     "execution_count": 2,
     "metadata": {},
     "output_type": "execute_result"
    }
   ],
   "source": [
    "df = pd.read_csv(r\"c:\\\\Users\\\\LENOVO\\\\OneDrive\\\\Desktop\\\\Tugas Akhir\\\\Programming\\\\data\\\\raw/dataset.csv\",\n",
    "                 low_memory=False)\n",
    "df.shape"
   ]
  },
  {
   "cell_type": "markdown",
   "metadata": {},
   "source": [
    "# Data Cleaning"
   ]
  },
  {
   "cell_type": "markdown",
   "metadata": {},
   "source": [
    "### Drop Duplicates"
   ]
  },
  {
   "cell_type": "code",
   "execution_count": 3,
   "metadata": {},
   "outputs": [
    {
     "data": {
      "text/plain": [
       "(39219, 36)"
      ]
     },
     "execution_count": 3,
     "metadata": {},
     "output_type": "execute_result"
    }
   ],
   "source": [
    "df = df.drop_duplicates('id')\n",
    "df.shape"
   ]
  },
  {
   "cell_type": "markdown",
   "metadata": {},
   "source": [
    "### Drop tweet that has 0 interaction"
   ]
  },
  {
   "cell_type": "code",
   "execution_count": 4,
   "metadata": {},
   "outputs": [
    {
     "data": {
      "text/plain": [
       "(30867, 36)"
      ]
     },
     "execution_count": 4,
     "metadata": {},
     "output_type": "execute_result"
    }
   ],
   "source": [
    "df = df[df.reply_to != \"[]\"]\n",
    "df.shape"
   ]
  },
  {
   "cell_type": "markdown",
   "metadata": {},
   "source": [
    "### Drop tweet thas from or to @zeniuseducation and @ruangguru"
   ]
  },
  {
   "cell_type": "code",
   "execution_count": 5,
   "metadata": {},
   "outputs": [
    {
     "data": {
      "text/plain": [
       "(8945, 38)"
      ]
     },
     "execution_count": 5,
     "metadata": {},
     "output_type": "execute_result"
    }
   ],
   "source": [
    "# make reply_to (username and id) columns\n",
    "df[\"reply_to_username\"] = [\n",
    "    eval(df.reply_to.tolist()[i])[0]\n",
    "    [\"screen_name\"]\n",
    "    for i in range(0, df.shape[0])]\n",
    "df[\"reply_to_id\"] = [\n",
    "    eval(df.reply_to.tolist()[i])[0][\"id\"]\n",
    "    for i in range(0, df.shape[0])]\n",
    "# take only user interaction\n",
    "df = df[~df.username.str.contains(\n",
    "    \"zeniuseducation|ruangguru\")]\n",
    "df = df[~df.reply_to_username.str.contains(\n",
    "    \"zeniuseducation|ruangguru\")]\n",
    "\n",
    "df.reset_index(inplace=True, drop=True)\n",
    "df.shape"
   ]
  },
  {
   "cell_type": "markdown",
   "metadata": {},
   "source": [
    "### Tweet Grouping About Ruangguru or Zenius"
   ]
  },
  {
   "cell_type": "code",
   "execution_count": 6,
   "metadata": {},
   "outputs": [],
   "source": [
    "df_zenius = df[\n",
    "    (df.tweet.str.contains(\"zenius\") == True)\n",
    "    &\n",
    "    ~df.tweet.str.contains(\n",
    "        \"ruangguru|rg|ruang guru\")\n",
    "    ].copy()\n",
    "df_ruangguru = df[\n",
    "    df.tweet.str.contains(\n",
    "        \"ruangguru|rg|ruang guru\") == True\n",
    "    &\n",
    "    ~df.tweet.str.contains(\"zenius\")\n",
    "    ].copy()\n",
    "\n",
    "df_zenius.reset_index(inplace=True, drop=True)\n",
    "df_ruangguru.reset_index(inplace=True, drop=True)"
   ]
  },
  {
   "cell_type": "markdown",
   "metadata": {},
   "source": [
    "### Transform to Edge List"
   ]
  },
  {
   "cell_type": "code",
   "execution_count": 7,
   "metadata": {},
   "outputs": [],
   "source": [
    "# function to transform df to edge list form\n",
    "def transform_edglst(df):\n",
    "    # source and target column\n",
    "    edglst = df[\n",
    "        ['username',\n",
    "         'reply_to_username']\n",
    "        ].copy().rename(\n",
    "            {\"username\":\"Source\",\n",
    "             \"reply_to_username\":\"Target\"},\n",
    "            # to lower case\n",
    "            axis=1).applymap(\n",
    "                lambda s:s.lower())\n",
    "    # weight column\n",
    "    edglst = edglst.value_counts(\n",
    "        ).to_frame(\n",
    "            'Jumlah Interaksi').astype(float)\n",
    "    return edglst.reset_index()\n",
    "# apply the function\n",
    "[edglst_ruangguru,\n",
    " edglst_zenius] = [transform_edglst(x)\n",
    "                   for x in [df_ruangguru,\n",
    "                             df_zenius]]"
   ]
  },
  {
   "cell_type": "markdown",
   "metadata": {},
   "source": [
    "### Put the data to CSV format"
   ]
  },
  {
   "cell_type": "code",
   "execution_count": 8,
   "metadata": {},
   "outputs": [],
   "source": [
    "edglst_ruangguru.to_csv(\n",
    "    r\"c:\\Users\\LENOVO\\OneDrive\\Desktop\\Tugas Akhir\\Programming\\data\\post-preprocessing\\ruangguru-edglst.csv\",\n",
    "    index=False,\n",
    "    header=True,\n",
    ")\n",
    "edglst_zenius.to_csv(\n",
    "    r\"c:\\Users\\LENOVO\\OneDrive\\Desktop\\Tugas Akhir\\Programming\\data\\post-preprocessing\\zenius-edglst.csv\",\n",
    "    index=False,\n",
    "    header=True,\n",
    ")"
   ]
  }
 ],
 "metadata": {
  "interpreter": {
   "hash": "91cd185b52e99c38c3267875ab9a1517cad35b33bacb190f02c7133274f23efe"
  },
  "kernelspec": {
   "display_name": "Python 3.8.10 64-bit ('venv': venv)",
   "language": "python",
   "name": "python3"
  },
  "language_info": {
   "codemirror_mode": {
    "name": "ipython",
    "version": 3
   },
   "file_extension": ".py",
   "mimetype": "text/x-python",
   "name": "python",
   "nbconvert_exporter": "python",
   "pygments_lexer": "ipython3",
   "version": "3.8.10"
  },
  "orig_nbformat": 4
 },
 "nbformat": 4,
 "nbformat_minor": 2
}
