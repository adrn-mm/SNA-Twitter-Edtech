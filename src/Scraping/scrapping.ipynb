{
 "cells": [
  {
   "cell_type": "code",
   "execution_count": 1,
   "id": "22847c2e",
   "metadata": {},
   "outputs": [],
   "source": [
    "import twint\n",
    "import nest_asyncio"
   ]
  },
  {
   "cell_type": "code",
   "execution_count": 2,
   "metadata": {},
   "outputs": [
    {
     "name": "stdout",
     "output_type": "stream",
     "text": [
      "1454217866878730243 2021-10-30 05:45:32 +0700 <senflouer_> yuk bimbel di ruangguru yukk, feel free to consult via dm🧚\n",
      "1454212235765575681 2021-10-30 05:23:09 +0700 <senflouer_> yuk kode diskon Ruangguru nya yukkk. dm yaaa, karena kode khusus dari konsultan resmi tidak boleh sembarangan dishare🥰  semangat utbk dan semangat bimbel guysss❣️👍🏻\n",
      "[!] No more data! Scraping will stop now.\n",
      "found 0 deleted tweets in this search.\n"
     ]
    }
   ],
   "source": [
    "nest_asyncio.apply()\n",
    "\n",
    "tw = twint.Config()\n",
    "tw.Search = \"ruangguru OR zenius\"\n",
    "tw.Since = \"2021-07-01\"\n",
    "tw.Until = \"2021-10-30\"\n",
    "tw.Store_csv = True\n",
    "tw.Output = \"dataset.csv\"\n",
    "twint.run.Search(tw)"
   ]
  }
 ],
 "metadata": {
  "interpreter": {
   "hash": "91cd185b52e99c38c3267875ab9a1517cad35b33bacb190f02c7133274f23efe"
  },
  "kernelspec": {
   "display_name": "Python 3.8.10 64-bit ('venv': venv)",
   "language": "python",
   "name": "python3"
  },
  "language_info": {
   "codemirror_mode": {
    "name": "ipython",
    "version": 3
   },
   "file_extension": ".py",
   "mimetype": "text/x-python",
   "name": "python",
   "nbconvert_exporter": "python",
   "pygments_lexer": "ipython3",
   "version": "3.8.10"
  },
  "orig_nbformat": 4
 },
 "nbformat": 4,
 "nbformat_minor": 2
}
